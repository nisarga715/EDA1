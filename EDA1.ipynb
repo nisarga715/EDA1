{
 "cells": [
  {
   "cell_type": "code",
   "execution_count": 53,
   "id": "8a620ead-961a-44f3-8d89-bbf8b50caba2",
   "metadata": {},
   "outputs": [],
   "source": [
    "import pandas as pd\n",
    "import numpy as np\n",
    "import matplotlib.pyplot as plt\n",
    "import seaborn as sns\n",
    "import scipy.stats as stats"
   ]
  },
  {
   "cell_type": "code",
   "execution_count": 55,
   "id": "2d101ee3-de69-458c-9500-58c81a15aff3",
   "metadata": {},
   "outputs": [],
   "source": [
    "# Step 1: Load the dataset\n",
    "df= pd.read_csv('Cardiotocographic.csv')"
   ]
  },
  {
   "cell_type": "code",
   "execution_count": 57,
   "id": "b1c17d02-75c7-4554-9581-2e20e397a9c3",
   "metadata": {},
   "outputs": [
    {
     "data": {
      "text/html": [
       "<div>\n",
       "<style scoped>\n",
       "    .dataframe tbody tr th:only-of-type {\n",
       "        vertical-align: middle;\n",
       "    }\n",
       "\n",
       "    .dataframe tbody tr th {\n",
       "        vertical-align: top;\n",
       "    }\n",
       "\n",
       "    .dataframe thead th {\n",
       "        text-align: right;\n",
       "    }\n",
       "</style>\n",
       "<table border=\"1\" class=\"dataframe\">\n",
       "  <thead>\n",
       "    <tr style=\"text-align: right;\">\n",
       "      <th></th>\n",
       "      <th>LB</th>\n",
       "      <th>AC</th>\n",
       "      <th>FM</th>\n",
       "      <th>UC</th>\n",
       "      <th>DL</th>\n",
       "      <th>DS</th>\n",
       "      <th>DP</th>\n",
       "      <th>ASTV</th>\n",
       "      <th>MSTV</th>\n",
       "      <th>ALTV</th>\n",
       "      <th>MLTV</th>\n",
       "      <th>Width</th>\n",
       "      <th>Tendency</th>\n",
       "      <th>NSP</th>\n",
       "    </tr>\n",
       "  </thead>\n",
       "  <tbody>\n",
       "    <tr>\n",
       "      <th>0</th>\n",
       "      <td>120.000000</td>\n",
       "      <td>0.000000</td>\n",
       "      <td>0.0</td>\n",
       "      <td>0.000000</td>\n",
       "      <td>0.000000</td>\n",
       "      <td>0.0</td>\n",
       "      <td>0.0</td>\n",
       "      <td>73.0</td>\n",
       "      <td>0.5</td>\n",
       "      <td>43.0</td>\n",
       "      <td>2.4</td>\n",
       "      <td>64.0</td>\n",
       "      <td>0.999926</td>\n",
       "      <td>2.0</td>\n",
       "    </tr>\n",
       "    <tr>\n",
       "      <th>1</th>\n",
       "      <td>132.000000</td>\n",
       "      <td>0.006380</td>\n",
       "      <td>0.0</td>\n",
       "      <td>0.006380</td>\n",
       "      <td>0.003190</td>\n",
       "      <td>0.0</td>\n",
       "      <td>0.0</td>\n",
       "      <td>17.0</td>\n",
       "      <td>2.1</td>\n",
       "      <td>0.0</td>\n",
       "      <td>10.4</td>\n",
       "      <td>130.0</td>\n",
       "      <td>0.000000</td>\n",
       "      <td>1.0</td>\n",
       "    </tr>\n",
       "    <tr>\n",
       "      <th>2</th>\n",
       "      <td>133.000000</td>\n",
       "      <td>0.003322</td>\n",
       "      <td>0.0</td>\n",
       "      <td>0.008306</td>\n",
       "      <td>0.003322</td>\n",
       "      <td>0.0</td>\n",
       "      <td>0.0</td>\n",
       "      <td>16.0</td>\n",
       "      <td>2.1</td>\n",
       "      <td>0.0</td>\n",
       "      <td>13.4</td>\n",
       "      <td>130.0</td>\n",
       "      <td>0.000000</td>\n",
       "      <td>1.0</td>\n",
       "    </tr>\n",
       "    <tr>\n",
       "      <th>3</th>\n",
       "      <td>134.000000</td>\n",
       "      <td>0.002561</td>\n",
       "      <td>0.0</td>\n",
       "      <td>0.007742</td>\n",
       "      <td>0.002561</td>\n",
       "      <td>0.0</td>\n",
       "      <td>0.0</td>\n",
       "      <td>16.0</td>\n",
       "      <td>2.4</td>\n",
       "      <td>0.0</td>\n",
       "      <td>23.0</td>\n",
       "      <td>117.0</td>\n",
       "      <td>1.000000</td>\n",
       "      <td>1.0</td>\n",
       "    </tr>\n",
       "    <tr>\n",
       "      <th>4</th>\n",
       "      <td>131.948232</td>\n",
       "      <td>0.006515</td>\n",
       "      <td>0.0</td>\n",
       "      <td>0.008143</td>\n",
       "      <td>0.000000</td>\n",
       "      <td>0.0</td>\n",
       "      <td>0.0</td>\n",
       "      <td>16.0</td>\n",
       "      <td>2.4</td>\n",
       "      <td>0.0</td>\n",
       "      <td>19.9</td>\n",
       "      <td>117.0</td>\n",
       "      <td>1.000000</td>\n",
       "      <td>1.0</td>\n",
       "    </tr>\n",
       "  </tbody>\n",
       "</table>\n",
       "</div>"
      ],
      "text/plain": [
       "           LB        AC   FM        UC        DL   DS   DP  ASTV  MSTV  ALTV  \\\n",
       "0  120.000000  0.000000  0.0  0.000000  0.000000  0.0  0.0  73.0   0.5  43.0   \n",
       "1  132.000000  0.006380  0.0  0.006380  0.003190  0.0  0.0  17.0   2.1   0.0   \n",
       "2  133.000000  0.003322  0.0  0.008306  0.003322  0.0  0.0  16.0   2.1   0.0   \n",
       "3  134.000000  0.002561  0.0  0.007742  0.002561  0.0  0.0  16.0   2.4   0.0   \n",
       "4  131.948232  0.006515  0.0  0.008143  0.000000  0.0  0.0  16.0   2.4   0.0   \n",
       "\n",
       "   MLTV  Width  Tendency  NSP  \n",
       "0   2.4   64.0  0.999926  2.0  \n",
       "1  10.4  130.0  0.000000  1.0  \n",
       "2  13.4  130.0  0.000000  1.0  \n",
       "3  23.0  117.0  1.000000  1.0  \n",
       "4  19.9  117.0  1.000000  1.0  "
      ]
     },
     "execution_count": 57,
     "metadata": {},
     "output_type": "execute_result"
    }
   ],
   "source": [
    "df.head()"
   ]
  },
  {
   "cell_type": "markdown",
   "id": "a23aafe3-75bb-4776-8d31-50f0a26ca83a",
   "metadata": {},
   "source": [
    "# 1.\tData Cleaning and Preparation:"
   ]
  },
  {
   "cell_type": "code",
   "execution_count": 60,
   "id": "a984a10c-dfea-4d89-b146-bc0a92ace5cf",
   "metadata": {},
   "outputs": [
    {
     "name": "stdout",
     "output_type": "stream",
     "text": [
      "<class 'pandas.core.frame.DataFrame'>\n",
      "RangeIndex: 2126 entries, 0 to 2125\n",
      "Data columns (total 14 columns):\n",
      " #   Column    Non-Null Count  Dtype  \n",
      "---  ------    --------------  -----  \n",
      " 0   LB        2105 non-null   float64\n",
      " 1   AC        2106 non-null   float64\n",
      " 2   FM        2126 non-null   float64\n",
      " 3   UC        2126 non-null   float64\n",
      " 4   DL        2126 non-null   float64\n",
      " 5   DS        2105 non-null   float64\n",
      " 6   DP        2105 non-null   float64\n",
      " 7   ASTV      2126 non-null   float64\n",
      " 8   MSTV      2126 non-null   float64\n",
      " 9   ALTV      2126 non-null   float64\n",
      " 10  MLTV      2105 non-null   float64\n",
      " 11  Width     2105 non-null   float64\n",
      " 12  Tendency  2105 non-null   float64\n",
      " 13  NSP       2105 non-null   float64\n",
      "dtypes: float64(14)\n",
      "memory usage: 232.7 KB\n"
     ]
    }
   ],
   "source": [
    "# Display basic information about the dataset\n",
    "df.info()"
   ]
  },
  {
   "cell_type": "code",
   "execution_count": 62,
   "id": "158c69fa-4806-441c-ba5a-db1d64d6517b",
   "metadata": {},
   "outputs": [
    {
     "name": "stdout",
     "output_type": "stream",
     "text": [
      "Missing Values:\n",
      " LB          21\n",
      "AC          20\n",
      "FM           0\n",
      "UC           0\n",
      "DL           0\n",
      "DS          21\n",
      "DP          21\n",
      "ASTV         0\n",
      "MSTV         0\n",
      "ALTV         0\n",
      "MLTV        21\n",
      "Width       21\n",
      "Tendency    21\n",
      "NSP         21\n",
      "dtype: int64\n"
     ]
    }
   ],
   "source": [
    "# Check for missing values\n",
    "print(\"Missing Values:\\n\", df.isnull().sum())"
   ]
  },
  {
   "cell_type": "code",
   "execution_count": null,
   "id": "71c73b6f-2fc2-44a3-889a-eb96be78491c",
   "metadata": {},
   "outputs": [],
   "source": []
  },
  {
   "cell_type": "code",
   "execution_count": 65,
   "id": "21f83e1a-ce30-4da9-acd8-07fcfcde46ac",
   "metadata": {},
   "outputs": [],
   "source": [
    "# Replacing null value with Mean for numerical columns\n",
    "from sklearn.impute import SimpleImputer "
   ]
  },
  {
   "cell_type": "code",
   "execution_count": 67,
   "id": "e544fa02-2bfa-492f-b847-dce1d0317a94",
   "metadata": {},
   "outputs": [],
   "source": [
    "simple=SimpleImputer(missing_values=np.nan,strategy='most_frequent')\n",
    "df_new=pd.DataFrame(simple.fit_transform(df),columns=df.columns)"
   ]
  },
  {
   "cell_type": "code",
   "execution_count": 69,
   "id": "09a6847a-08e8-4cc5-a1ff-7d6176d79580",
   "metadata": {},
   "outputs": [
    {
     "data": {
      "text/plain": [
       "LB          False\n",
       "AC          False\n",
       "FM          False\n",
       "UC          False\n",
       "DL          False\n",
       "DS          False\n",
       "DP          False\n",
       "ASTV        False\n",
       "MSTV        False\n",
       "ALTV        False\n",
       "MLTV        False\n",
       "Width       False\n",
       "Tendency    False\n",
       "NSP         False\n",
       "dtype: bool"
      ]
     },
     "execution_count": 69,
     "metadata": {},
     "output_type": "execute_result"
    }
   ],
   "source": [
    "df_new.isnull().any()"
   ]
  },
  {
   "cell_type": "code",
   "execution_count": 71,
   "id": "1f9e6aba-3c6c-422c-9b2b-b5624e5472d4",
   "metadata": {},
   "outputs": [],
   "source": [
    "#●\tDetect and treat outliers "
   ]
  },
  {
   "cell_type": "code",
   "execution_count": 73,
   "id": "302f051c-5716-4b13-b414-ec67e44d8889",
   "metadata": {},
   "outputs": [
    {
     "name": "stdout",
     "output_type": "stream",
     "text": [
      "Outliers in LB: 10\n",
      "Outliers in AC: 40\n",
      "Outliers in FM: 347\n",
      "Outliers in UC: 13\n",
      "Outliers in DL: 125\n",
      "Outliers in DS: 120\n",
      "Outliers in DP: 284\n",
      "Outliers in ASTV: 10\n",
      "Outliers in MSTV: 80\n",
      "Outliers in ALTV: 318\n",
      "Outliers in MLTV: 81\n",
      "Outliers in Width: 10\n",
      "Outliers in Tendency: 10\n",
      "Outliers in NSP: 559\n"
     ]
    }
   ],
   "source": [
    "for col in df.select_dtypes(include=[np.number]).columns:\n",
    "    Q1 = df[col].quantile(0.25)\n",
    "    Q3 = df[col].quantile(0.75)\n",
    "    IQR = Q3 - Q1\n",
    "    lower_bound = Q1 - 1.5 * IQR\n",
    "    upper_bound=Q3 + 1.5 * IQR\n",
    "    outliers = ((df[col] < lower_bound) | (df[col] > upper_bound))\n",
    "    print(f\"Outliers in {col}:\", outliers.sum())"
   ]
  },
  {
   "cell_type": "code",
   "execution_count": null,
   "id": "293c48cd-bb06-46ee-b080-421b52b09182",
   "metadata": {},
   "outputs": [],
   "source": []
  },
  {
   "cell_type": "code",
   "execution_count": 76,
   "id": "1b708681-8187-4977-b040-ae3f1cf54949",
   "metadata": {},
   "outputs": [],
   "source": [
    "def remove_outliers_iqr(df,column):\n",
    "    Q1=df[column].quantile(0.25)\n",
    "    Q3=df[column].quantile(0.75)\n",
    "    IQR=Q3-Q1\n",
    "    lower_bound=Q1-1.5*IQR\n",
    "    upper_bound=Q3+1.5*IQR\n",
    "    return df[(df[col] >= lower_bound) & (df[col] <= upper_bound)]\n",
    "\n",
    "\n",
    "for col in df.select_dtypes(include=['float','int']).columns:\n",
    "    remove_outliers_iqr(df,col)"
   ]
  },
  {
   "cell_type": "code",
   "execution_count": 78,
   "id": "3bbfb4cd-4057-46cc-a45c-f03805a3a4c6",
   "metadata": {},
   "outputs": [
    {
     "data": {
      "text/html": [
       "<div>\n",
       "<style scoped>\n",
       "    .dataframe tbody tr th:only-of-type {\n",
       "        vertical-align: middle;\n",
       "    }\n",
       "\n",
       "    .dataframe tbody tr th {\n",
       "        vertical-align: top;\n",
       "    }\n",
       "\n",
       "    .dataframe thead th {\n",
       "        text-align: right;\n",
       "    }\n",
       "</style>\n",
       "<table border=\"1\" class=\"dataframe\">\n",
       "  <thead>\n",
       "    <tr style=\"text-align: right;\">\n",
       "      <th></th>\n",
       "      <th>LB</th>\n",
       "      <th>AC</th>\n",
       "      <th>FM</th>\n",
       "      <th>UC</th>\n",
       "      <th>DL</th>\n",
       "      <th>DS</th>\n",
       "      <th>DP</th>\n",
       "      <th>ASTV</th>\n",
       "      <th>MSTV</th>\n",
       "      <th>ALTV</th>\n",
       "      <th>MLTV</th>\n",
       "      <th>Width</th>\n",
       "      <th>Tendency</th>\n",
       "      <th>NSP</th>\n",
       "    </tr>\n",
       "  </thead>\n",
       "  <tbody>\n",
       "    <tr>\n",
       "      <th>0</th>\n",
       "      <td>120.000000</td>\n",
       "      <td>0.000000</td>\n",
       "      <td>0.000000</td>\n",
       "      <td>0.000000</td>\n",
       "      <td>0.000000</td>\n",
       "      <td>0.0</td>\n",
       "      <td>0.0</td>\n",
       "      <td>73.0</td>\n",
       "      <td>0.5</td>\n",
       "      <td>43.000000</td>\n",
       "      <td>2.4</td>\n",
       "      <td>64.0</td>\n",
       "      <td>0.999926</td>\n",
       "      <td>2.000000</td>\n",
       "    </tr>\n",
       "    <tr>\n",
       "      <th>1</th>\n",
       "      <td>132.000000</td>\n",
       "      <td>0.006380</td>\n",
       "      <td>0.000000</td>\n",
       "      <td>0.006380</td>\n",
       "      <td>0.003190</td>\n",
       "      <td>0.0</td>\n",
       "      <td>0.0</td>\n",
       "      <td>17.0</td>\n",
       "      <td>2.1</td>\n",
       "      <td>0.000000</td>\n",
       "      <td>10.4</td>\n",
       "      <td>130.0</td>\n",
       "      <td>0.000000</td>\n",
       "      <td>1.000000</td>\n",
       "    </tr>\n",
       "    <tr>\n",
       "      <th>2</th>\n",
       "      <td>133.000000</td>\n",
       "      <td>0.003322</td>\n",
       "      <td>0.000000</td>\n",
       "      <td>0.008306</td>\n",
       "      <td>0.003322</td>\n",
       "      <td>0.0</td>\n",
       "      <td>0.0</td>\n",
       "      <td>16.0</td>\n",
       "      <td>2.1</td>\n",
       "      <td>0.000000</td>\n",
       "      <td>13.4</td>\n",
       "      <td>130.0</td>\n",
       "      <td>0.000000</td>\n",
       "      <td>1.000000</td>\n",
       "    </tr>\n",
       "    <tr>\n",
       "      <th>3</th>\n",
       "      <td>134.000000</td>\n",
       "      <td>0.002561</td>\n",
       "      <td>0.000000</td>\n",
       "      <td>0.007742</td>\n",
       "      <td>0.002561</td>\n",
       "      <td>0.0</td>\n",
       "      <td>0.0</td>\n",
       "      <td>16.0</td>\n",
       "      <td>2.4</td>\n",
       "      <td>0.000000</td>\n",
       "      <td>23.0</td>\n",
       "      <td>117.0</td>\n",
       "      <td>1.000000</td>\n",
       "      <td>1.000000</td>\n",
       "    </tr>\n",
       "    <tr>\n",
       "      <th>4</th>\n",
       "      <td>131.948232</td>\n",
       "      <td>0.006515</td>\n",
       "      <td>0.000000</td>\n",
       "      <td>0.008143</td>\n",
       "      <td>0.000000</td>\n",
       "      <td>0.0</td>\n",
       "      <td>0.0</td>\n",
       "      <td>16.0</td>\n",
       "      <td>2.4</td>\n",
       "      <td>0.000000</td>\n",
       "      <td>19.9</td>\n",
       "      <td>117.0</td>\n",
       "      <td>1.000000</td>\n",
       "      <td>1.000000</td>\n",
       "    </tr>\n",
       "    <tr>\n",
       "      <th>...</th>\n",
       "      <td>...</td>\n",
       "      <td>...</td>\n",
       "      <td>...</td>\n",
       "      <td>...</td>\n",
       "      <td>...</td>\n",
       "      <td>...</td>\n",
       "      <td>...</td>\n",
       "      <td>...</td>\n",
       "      <td>...</td>\n",
       "      <td>...</td>\n",
       "      <td>...</td>\n",
       "      <td>...</td>\n",
       "      <td>...</td>\n",
       "      <td>...</td>\n",
       "    </tr>\n",
       "    <tr>\n",
       "      <th>2121</th>\n",
       "      <td>140.000000</td>\n",
       "      <td>0.000000</td>\n",
       "      <td>0.961268</td>\n",
       "      <td>0.007426</td>\n",
       "      <td>0.000000</td>\n",
       "      <td>0.0</td>\n",
       "      <td>0.0</td>\n",
       "      <td>79.0</td>\n",
       "      <td>0.2</td>\n",
       "      <td>25.000000</td>\n",
       "      <td>7.2</td>\n",
       "      <td>40.0</td>\n",
       "      <td>0.000000</td>\n",
       "      <td>2.000000</td>\n",
       "    </tr>\n",
       "    <tr>\n",
       "      <th>2122</th>\n",
       "      <td>140.000000</td>\n",
       "      <td>0.000775</td>\n",
       "      <td>0.000000</td>\n",
       "      <td>0.006979</td>\n",
       "      <td>0.000000</td>\n",
       "      <td>0.0</td>\n",
       "      <td>0.0</td>\n",
       "      <td>78.0</td>\n",
       "      <td>0.4</td>\n",
       "      <td>22.000000</td>\n",
       "      <td>7.1</td>\n",
       "      <td>66.0</td>\n",
       "      <td>1.000000</td>\n",
       "      <td>2.000000</td>\n",
       "    </tr>\n",
       "    <tr>\n",
       "      <th>2123</th>\n",
       "      <td>140.000000</td>\n",
       "      <td>0.000980</td>\n",
       "      <td>0.000000</td>\n",
       "      <td>0.006863</td>\n",
       "      <td>0.000000</td>\n",
       "      <td>0.0</td>\n",
       "      <td>0.0</td>\n",
       "      <td>79.0</td>\n",
       "      <td>0.4</td>\n",
       "      <td>20.000000</td>\n",
       "      <td>6.1</td>\n",
       "      <td>67.0</td>\n",
       "      <td>1.000000</td>\n",
       "      <td>1.990464</td>\n",
       "    </tr>\n",
       "    <tr>\n",
       "      <th>2124</th>\n",
       "      <td>140.000000</td>\n",
       "      <td>0.000679</td>\n",
       "      <td>0.000000</td>\n",
       "      <td>0.006110</td>\n",
       "      <td>0.000000</td>\n",
       "      <td>0.0</td>\n",
       "      <td>0.0</td>\n",
       "      <td>78.0</td>\n",
       "      <td>0.4</td>\n",
       "      <td>27.000000</td>\n",
       "      <td>7.0</td>\n",
       "      <td>66.0</td>\n",
       "      <td>1.000000</td>\n",
       "      <td>2.000000</td>\n",
       "    </tr>\n",
       "    <tr>\n",
       "      <th>2125</th>\n",
       "      <td>142.000000</td>\n",
       "      <td>0.001616</td>\n",
       "      <td>-0.000188</td>\n",
       "      <td>0.008078</td>\n",
       "      <td>0.000000</td>\n",
       "      <td>0.0</td>\n",
       "      <td>0.0</td>\n",
       "      <td>74.0</td>\n",
       "      <td>0.4</td>\n",
       "      <td>35.857183</td>\n",
       "      <td>5.0</td>\n",
       "      <td>42.0</td>\n",
       "      <td>0.000000</td>\n",
       "      <td>1.000000</td>\n",
       "    </tr>\n",
       "  </tbody>\n",
       "</table>\n",
       "<p>2126 rows × 14 columns</p>\n",
       "</div>"
      ],
      "text/plain": [
       "              LB        AC        FM        UC        DL   DS   DP  ASTV  \\\n",
       "0     120.000000  0.000000  0.000000  0.000000  0.000000  0.0  0.0  73.0   \n",
       "1     132.000000  0.006380  0.000000  0.006380  0.003190  0.0  0.0  17.0   \n",
       "2     133.000000  0.003322  0.000000  0.008306  0.003322  0.0  0.0  16.0   \n",
       "3     134.000000  0.002561  0.000000  0.007742  0.002561  0.0  0.0  16.0   \n",
       "4     131.948232  0.006515  0.000000  0.008143  0.000000  0.0  0.0  16.0   \n",
       "...          ...       ...       ...       ...       ...  ...  ...   ...   \n",
       "2121  140.000000  0.000000  0.961268  0.007426  0.000000  0.0  0.0  79.0   \n",
       "2122  140.000000  0.000775  0.000000  0.006979  0.000000  0.0  0.0  78.0   \n",
       "2123  140.000000  0.000980  0.000000  0.006863  0.000000  0.0  0.0  79.0   \n",
       "2124  140.000000  0.000679  0.000000  0.006110  0.000000  0.0  0.0  78.0   \n",
       "2125  142.000000  0.001616 -0.000188  0.008078  0.000000  0.0  0.0  74.0   \n",
       "\n",
       "      MSTV       ALTV  MLTV  Width  Tendency       NSP  \n",
       "0      0.5  43.000000   2.4   64.0  0.999926  2.000000  \n",
       "1      2.1   0.000000  10.4  130.0  0.000000  1.000000  \n",
       "2      2.1   0.000000  13.4  130.0  0.000000  1.000000  \n",
       "3      2.4   0.000000  23.0  117.0  1.000000  1.000000  \n",
       "4      2.4   0.000000  19.9  117.0  1.000000  1.000000  \n",
       "...    ...        ...   ...    ...       ...       ...  \n",
       "2121   0.2  25.000000   7.2   40.0  0.000000  2.000000  \n",
       "2122   0.4  22.000000   7.1   66.0  1.000000  2.000000  \n",
       "2123   0.4  20.000000   6.1   67.0  1.000000  1.990464  \n",
       "2124   0.4  27.000000   7.0   66.0  1.000000  2.000000  \n",
       "2125   0.4  35.857183   5.0   42.0  0.000000  1.000000  \n",
       "\n",
       "[2126 rows x 14 columns]"
      ]
     },
     "execution_count": 78,
     "metadata": {},
     "output_type": "execute_result"
    }
   ],
   "source": [
    "df"
   ]
  },
  {
   "cell_type": "code",
   "execution_count": null,
   "id": "a6b71dd3-5b59-4499-8a43-c2f339aee53b",
   "metadata": {},
   "outputs": [],
   "source": []
  },
  {
   "cell_type": "markdown",
   "id": "b7cac918-0c07-4508-ba83-e3ba0e9eca50",
   "metadata": {},
   "source": [
    "# Step 2: Statistical Summary"
   ]
  },
  {
   "cell_type": "code",
   "execution_count": 82,
   "id": "463ccfa0-82c0-4377-a44d-25706d1555c8",
   "metadata": {},
   "outputs": [
    {
     "name": "stdout",
     "output_type": "stream",
     "text": [
      "\n",
      "Statistical Summary:\n",
      "\n",
      "                LB           AC           FM           UC           DL  \\\n",
      "count  2105.000000  2106.000000  2126.000000  2126.000000  2126.000000   \n",
      "mean    133.343598     0.003219     0.009894     0.004391     0.001895   \n",
      "std      11.270154     0.004391     0.067540     0.003340     0.003343   \n",
      "min      51.842487    -0.019284    -0.480634    -0.014925    -0.015393   \n",
      "25%     126.000000     0.000000     0.000000     0.001851     0.000000   \n",
      "50%     133.000000     0.001634     0.000000     0.004484     0.000000   \n",
      "75%     140.000000     0.005650     0.002567     0.006536     0.003289   \n",
      "max     214.000000     0.038567     0.961268     0.030002     0.030769   \n",
      "\n",
      "                DS           DP         ASTV         MSTV         ALTV  \\\n",
      "count  2105.000000  2105.000000  2126.000000  2126.000000  2126.000000   \n",
      "mean      0.000003     0.000175    46.995984     1.364378    10.285964   \n",
      "std       0.000142     0.000840    18.813973     1.173632    21.205041   \n",
      "min      -0.001353    -0.005348   -63.000000    -6.600000   -91.000000   \n",
      "25%       0.000000     0.000000    32.000000     0.700000     0.000000   \n",
      "50%       0.000000     0.000000    49.000000     1.200000     0.000000   \n",
      "75%       0.000000     0.000000    61.000000     1.700000    11.000000   \n",
      "max       0.002706     0.010695   162.000000    13.800000   182.000000   \n",
      "\n",
      "              MLTV        Width     Tendency          NSP  \n",
      "count  2105.000000  2105.000000  2105.000000  2105.000000  \n",
      "mean      8.284887    70.429260     0.316371     1.304507  \n",
      "std       7.772858    42.931822     0.645622     0.644619  \n",
      "min     -50.700000  -174.000000    -3.000000    -1.025988  \n",
      "25%       4.600000    37.000000     0.000000     1.000000  \n",
      "50%       7.400000    67.000000     0.000000     1.000000  \n",
      "75%      10.900000   100.000000     1.000000     1.000000  \n",
      "max     101.400000   357.000000     3.000000     5.000000  \n"
     ]
    }
   ],
   "source": [
    "\n",
    "print(\"\\nStatistical Summary:\\n\")\n",
    "summary = df.describe()\n",
    "print(summary)"
   ]
  },
  {
   "cell_type": "markdown",
   "id": "9ab42dbf-d2bf-4413-ac09-a3f736728543",
   "metadata": {},
   "source": [
    "# 3.\tData Visualization:\n",
    "\n"
   ]
  },
  {
   "cell_type": "code",
   "execution_count": 85,
   "id": "499d1c70-e557-4956-adc4-fafe9c46000f",
   "metadata": {},
   "outputs": [],
   "source": [
    "#●\tCreate histograms or boxplots to visualize the distributions of various numerical variables."
   ]
  },
  {
   "cell_type": "code",
   "execution_count": 87,
   "id": "c5bcd5ef-f215-48c7-b7d3-8461bfd71950",
   "metadata": {},
   "outputs": [
    {
     "data": {
      "image/png": "[encoded data removed]",
      "text/plain": [
       "<Figure size 1500x1000 with 16 Axes>"
      ]
     },
     "metadata": {},
     "output_type": "display_data"
    }
   ],
   "source": [
    "# Histograms\n",
    "df.hist(bins=15, figsize=(15, 10))\n",
    "plt.show()"
   ]
  },
  {
   "cell_type": "code",
   "execution_count": 88,
   "id": "b99dbd71-0187-4209-9486-28c645e60cfd",
   "metadata": {},
   "outputs": [
    {
     "data": {
      "image/png": "[encoded data removed]",
      "text/plain": [
       "<Figure size 1200x600 with 1 Axes>"
      ]
     },
     "metadata": {},
     "output_type": "display_data"
    }
   ],
   "source": [
    "# Boxplots\n",
    "plt.figure(figsize=(12, 6))\n",
    "sns.boxplot(data=df.select_dtypes(include=[np.number]))\n",
    "plt.title('Boxplots of Numerical Variables')\n",
    "plt.show()"
   ]
  },
  {
   "cell_type": "code",
   "execution_count": null,
   "id": "1e39cbd4-da3b-433c-b882-0a7887a28adb",
   "metadata": {},
   "outputs": [],
   "source": []
  },
  {
   "cell_type": "code",
   "execution_count": null,
   "id": "5325fac3-6257-40a5-bfc4-452d87074d03",
   "metadata": {},
   "outputs": [],
   "source": [
    "## ●\tEmploy advanced visualization techniques like pair plots, or violin plots for deeper insights\n",
    "\n",
    "# Pair plots for deeper insights\n",
    "sns.pairplot(df)\n",
    "plt.show()"
   ]
  },
  {
   "cell_type": "markdown",
   "id": "417a7acc-f2bb-4a1e-b070-f9f8b0a73bb4",
   "metadata": {},
   "source": [
    "# 4.\tPattern Recognition and Insights:"
   ]
  },
  {
   "cell_type": "code",
   "execution_count": null,
   "id": "709b180d-0e51-408d-92c0-431a0b5d4fea",
   "metadata": {},
   "outputs": [],
   "source": [
    "plt.figure(figsize=(10, 8))\n",
    "sns.heatmap(df.corr(), annot=True, cmap='coolwarm')\n",
    "plt.title('Correlation Heatmap')\n",
    "plt.show()\n"
   ]
  },
  {
   "cell_type": "markdown",
   "id": "385aa987-e3c8-4f29-8676-753c026b90f2",
   "metadata": {},
   "source": [
    "Key Insights\n",
    "Strongly Correlated :\n",
    "\n",
    "The pair of columns (Width,MSTV), (Width,DL) and (MSTV,DL) are highly correlated with each other with the value 0.54 almost. It indicates that when the value increase one another column value also increases simultaneously.\n",
    "\n",
    "Moderate Correlation :\n",
    "\n",
    "The pair of column (LB,Tendency),(FM,ASTV) and (DL,Tendency) are moderately correlated with each other.\n",
    "\n",
    "Weak Correlation :\n",
    "\n",
    "The columns (MLTV,AC),(ALTV,AC),(MLTV,ASTV),(ALTV,MSTV) are with weak correlation or negative correlation.It indicates that when the value increase in the one column then the value is decrease in the another column"
   ]
  },
  {
   "cell_type": "markdown",
   "id": "21b13ae9-8c9d-49f5-b869-0b507c744954",
   "metadata": {},
   "source": [
    "**The dataset set does not contains any date column so it is difficult to Look for trends or patterns over time**"
   ]
  },
  {
   "cell_type": "markdown",
   "id": "a533f097-c5d5-43e2-a189-92d8feb9909a",
   "metadata": {},
   "source": [
    "Conclusion:\n",
    "Key Insights:\n",
    "Distribution Characteristics:\n",
    "\n",
    "Many variables exhibit skewness, indicating non-normal distributions. Variables such as 'AC', 'FM', and 'NSP' show significant skewness, suggesting that they may require transformations for certain statistical analyses.\n",
    "Correlation Patterns:\n",
    "\n",
    "Strong positive correlations were identified between variables like MSTV and DL, as well as Width and MSTV. These relationships suggest that certain measures of variability are closely related.\n",
    "Variable Importance:\n",
    "\n",
    "The 'LB' variable has a wide range, indicating variability in fetal heart rates across observations. This could be critical for assessing fetal well-being.\n",
    "Potential Redundancies:\n",
    "\n",
    "High correlations between certain variables suggest redundancy, which could be considered in model development to avoid multicollinearity."
   ]
  },
  {
   "cell_type": "markdown",
   "id": "dee0ac8b-7dce-4795-b2ee-460c7969fa21",
   "metadata": {},
   "source": [
    "Further Analyses:\n",
    "Clinical Monitoring:\n",
    "\n",
    "Understanding the relationships between different cardiotocographic measures can enhance clinical decision-making in fetal monitoring. For instance, recognizing that higher short-term variability correlates with abnormal long-term variability can help clinicians identify at-risk fetuses more effectively.\n",
    "\n",
    "Predictive Modeling:\n",
    "\n",
    "The insights gained from the correlation analysis can inform the selection of features for predictive models. Variables that are strongly correlated with outcomes of interest can be prioritized in model development.\n",
    "\n",
    "Data Transformation:\n",
    "\n",
    "The non-normal distributions of several variables suggest that data transformations may be necessary to meet the assumptions of parametric statistical tests."
   ]
  },
  {
   "cell_type": "code",
   "execution_count": null,
   "id": "d41c061e-1453-4f95-86b2-efb66c2de1e9",
   "metadata": {},
   "outputs": [],
   "source": []
  }
 ],
 "metadata": {
  "kernelspec": {
   "display_name": "Python 3 (ipykernel)",
   "language": "python",
   "name": "python3"
  },
  "language_info": {
   "codemirror_mode": {
    "name": "ipython",
    "version": 3
   },
   "file_extension": ".py",
   "mimetype": "text/x-python",
   "name": "python",
   "nbconvert_exporter": "python",
   "pygments_lexer": "ipython3",
   "version": "3.11.7"
  }
 },
 "nbformat": 4,
 "nbformat_minor": 5
}
